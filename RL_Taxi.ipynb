{
  "cells": [
    {
      "cell_type": "code",
      "source": [
        "!pip install pygame \n",
        "\n",
        "import os\n",
        "os.environ['SDL_VIDEODRIVER']='dummy'\n",
        "import pygame\n",
        "pygame.display.set_mode((640,480))\n"
      ],
      "metadata": {
        "colab": {
          "base_uri": "https://localhost:8080/"
        },
        "id": "Zy3V0glkgYgU",
        "outputId": "87da1d83-3eaf-4713-a974-a79be36ba63b"
      },
      "id": "Zy3V0glkgYgU",
      "execution_count": null,
      "outputs": [
        {
          "output_type": "stream",
          "name": "stdout",
          "text": [
            "Looking in indexes: https://pypi.org/simple, https://us-python.pkg.dev/colab-wheels/public/simple/\n",
            "Requirement already satisfied: pygame in /usr/local/lib/python3.10/dist-packages (2.3.0)\n"
          ]
        },
        {
          "output_type": "execute_result",
          "data": {
            "text/plain": [
              "<Surface(640x480x32 SW)>"
            ]
          },
          "metadata": {},
          "execution_count": 41
        }
      ]
    },
    {
      "metadata": {
        "id": "BlslDpklfnG2"
      },
      "cell_type": "code",
      "source": [
        "#remove \" > /dev/null 2>&1\" to see what is going on under the hood\n",
        "!pip install gym pyvirtualdisplay > /dev/null 2>&1\n",
        "!apt-get install -y xvfb python-opengl ffmpeg > /dev/null 2>&1"
      ],
      "execution_count": null,
      "outputs": [],
      "id": "BlslDpklfnG2"
    },
    {
      "metadata": {
        "id": "TCelFzWY9MBI",
        "colab": {
          "base_uri": "https://localhost:8080/",
          "height": 329
        },
        "outputId": "79e06382-cd90-45fc-b810-66e415d3583b"
      },
      "cell_type": "code",
      "source": [
        "!apt-get update > /dev/null 2>&1\n",
        "!apt-get install cmake > /dev/null 2>&1\n",
        "!pip install --upgrade setuptools 2>&1\n",
        "!pip install ez_setup > /dev/null 2>&1\n",
        "!pip install gym[atari] > /dev/null 2>&1"
      ],
      "execution_count": null,
      "outputs": [
        {
          "output_type": "stream",
          "name": "stdout",
          "text": [
            "Looking in indexes: https://pypi.org/simple, https://us-python.pkg.dev/colab-wheels/public/simple/\n",
            "Requirement already satisfied: setuptools in /usr/local/lib/python3.10/dist-packages (67.7.2)\n",
            "Collecting setuptools\n",
            "  Downloading setuptools-67.8.0-py3-none-any.whl (1.1 MB)\n",
            "\u001b[2K     \u001b[90m━━━━━━━━━━━━━━━━━━━━━━━━━━━━━━━━━━━━━━━━\u001b[0m \u001b[32m1.1/1.1 MB\u001b[0m \u001b[31m17.7 MB/s\u001b[0m eta \u001b[36m0:00:00\u001b[0m\n",
            "\u001b[?25hInstalling collected packages: setuptools\n",
            "  Attempting uninstall: setuptools\n",
            "    Found existing installation: setuptools 67.7.2\n",
            "    Uninstalling setuptools-67.7.2:\n",
            "      Successfully uninstalled setuptools-67.7.2\n",
            "\u001b[31mERROR: pip's dependency resolver does not currently take into account all the packages that are installed. This behaviour is the source of the following dependency conflicts.\n",
            "ipython 7.34.0 requires jedi>=0.16, which is not installed.\u001b[0m\u001b[31m\n",
            "\u001b[0mSuccessfully installed setuptools-67.8.0\n"
          ]
        },
        {
          "output_type": "display_data",
          "data": {
            "application/vnd.colab-display-data+json": {
              "pip_warning": {
                "packages": [
                  "_distutils_hack",
                  "pkg_resources",
                  "setuptools"
                ]
              }
            }
          },
          "metadata": {}
        }
      ],
      "id": "TCelFzWY9MBI"
    },
    {
      "cell_type": "code",
      "execution_count": null,
      "id": "4f578d97",
      "metadata": {
        "id": "4f578d97",
        "colab": {
          "base_uri": "https://localhost:8080/"
        },
        "outputId": "8fdda363-cbd6-42e3-b76e-d625a469a912"
      },
      "outputs": [
        {
          "output_type": "stream",
          "name": "stderr",
          "text": [
            "/usr/local/lib/python3.10/dist-packages/gym/core.py:317: DeprecationWarning: \u001b[33mWARN: Initializing wrapper in old step API which returns one bool instead of two. It is recommended to set `new_step_api=True` to use new step API. This will be the default behaviour in future.\u001b[0m\n",
            "  deprecation(\n",
            "/usr/local/lib/python3.10/dist-packages/gym/wrappers/step_api_compatibility.py:39: DeprecationWarning: \u001b[33mWARN: Initializing environment in old step API which returns one bool instead of two. It is recommended to set `new_step_api=True` to use new step API. This will be the default behaviour in future.\u001b[0m\n",
            "  deprecation(\n"
          ]
        },
        {
          "output_type": "execute_result",
          "data": {
            "text/plain": [
              "488"
            ]
          },
          "metadata": {},
          "execution_count": 42
        }
      ],
      "source": [
        "import gym\n",
        "import random\n",
        "\n",
        "#Red — 0 , Green — 1, Yellow — 2, and Blue — 3 for pick up\n",
        "streets = gym.make(\"Taxi-v3\").env #New versions keep getting released; if -v3 doesn't work, try -v2 or -v4\n",
        "\n",
        "streets.reset()"
      ]
    },
    {
      "cell_type": "code",
      "execution_count": null,
      "id": "e70cde28",
      "metadata": {
        "id": "e70cde28",
        "colab": {
          "base_uri": "https://localhost:8080/"
        },
        "outputId": "4dc3dbea-8171-449f-aea9-3ab262970d5d"
      },
      "outputs": [
        {
          "output_type": "stream",
          "name": "stderr",
          "text": [
            "/usr/local/lib/python3.10/dist-packages/gym/core.py:49: DeprecationWarning: \u001b[33mWARN: You are calling render method, but you didn't specified the argument render_mode at environment initialization. To maintain backward compatibility, the environment will render in human mode.\n",
            "If you want to render in human mode, initialize the environment in this way: gym.make('EnvName', render_mode='human') and don't call the render method.\n",
            "See here for more information: https://www.gymlibrary.ml/content/api/\u001b[0m\n",
            "  deprecation(\n"
          ]
        }
      ],
      "source": [
        "##Red — 0 , Green — 1, Yellow — 2, and Blue — 3 for pick up\n",
        "#Each state is defined by a 4 entries tuple: （taxi_row, taxi_col, passenger_location, destination)\n",
        "initial_state = streets.encode(2, 1, 3, 1)\n",
        "\n",
        "streets.s = initial_state\n",
        "\n",
        "streets.render()\n",
        "\n",
        "#State Space:  25 possible taxi positions, 5 possible locations of the passenger\n",
        "# 25*5*4 = 500"
      ]
    },
    {
      "cell_type": "code",
      "source": [
        "streets.observation_space"
      ],
      "metadata": {
        "colab": {
          "base_uri": "https://localhost:8080/"
        },
        "id": "CzRGcxLteClX",
        "outputId": "c5329923-aa30-42b5-f244-5aceee0265b5"
      },
      "id": "CzRGcxLteClX",
      "execution_count": null,
      "outputs": [
        {
          "output_type": "execute_result",
          "data": {
            "text/plain": [
              "Discrete(500)"
            ]
          },
          "metadata": {},
          "execution_count": 44
        }
      ]
    },
    {
      "cell_type": "code",
      "execution_count": null,
      "id": "19d1b0fc",
      "metadata": {
        "id": "19d1b0fc",
        "colab": {
          "base_uri": "https://localhost:8080/"
        },
        "outputId": "2b4cfbbe-3192-442b-fb23-f55441d3044d"
      },
      "outputs": [
        {
          "output_type": "stream",
          "name": "stdout",
          "text": [
            "Epoch 0 Rewards=-2616 Steps=1098\n",
            "Epoch 1000 Rewards=-136 Steps=121\n",
            "Epoch 2000 Rewards=-31 Steps=34\n",
            "Epoch 3000 Rewards=0 Steps=12\n",
            "Epoch 4000 Rewards=-13 Steps=25\n",
            "Epoch 5000 Rewards=11 Steps=10\n"
          ]
        }
      ],
      "source": [
        "import numpy as np\n",
        "#Action space:6 --> N,S,E,W, DROP-OFF, PICKUP\n",
        "#Rewards: CORRECT FINAL DEST. +20, STEP -1, INCORRECT PICK/DROP -10\n",
        "\n",
        "q_table = np.zeros([streets.observation_space.n, streets.action_space.n]) # 500 , 6\n",
        "# a 2D array that represent every possible state and action in the virtual space and initialize all of them to 0\n",
        "total_rewards = 0\n",
        "learning_rate = 0.1\n",
        "discount_factor = 0.5\n",
        "exploration = 0.1\n",
        "epochs = 5000\n",
        "\n",
        "for taxi_run in range(epochs + 1): #Start training (the agent plays the number of epochs)\n",
        "    state = streets.reset()\n",
        "    done = False\n",
        "    total_rewards = 0\n",
        "    steps=0\n",
        "    while not done:#each epoch/play contains this number of actions, starting from pickup a passenger until drop-off\n",
        "        steps +=1\n",
        "        random_value = random.uniform(0, 1)\n",
        "        if (random_value < exploration):\n",
        "            action = streets.action_space.sample() # Explore a random action\n",
        "        else:\n",
        "            action = np.argmax(q_table[state]) # Return the action with the highest q-value\n",
        "            \n",
        "        next_state, reward, done, info = streets.step(action) # Do the above action\n",
        "        \n",
        "        prev_q = q_table[state, action]\n",
        "        next_max_q = np.max(q_table[next_state])\n",
        "        # see RL-2 PPT file --- slide# 5\n",
        "        new_q = (1 - learning_rate) * prev_q + learning_rate * (reward + discount_factor * next_max_q)\n",
        "        total_rewards += reward\n",
        "        q_table[state, action] = new_q\n",
        "        #streets.render()        \n",
        "        state = next_state\n",
        "\n",
        "    if not(taxi_run % 1000):\n",
        "      print(f'Epoch {taxi_run} Rewards={total_rewards} Steps={steps}')\n"
      ]
    },
    {
      "cell_type": "markdown",
      "source": [
        "Epoch 0 Rewards=-1788 Steps=729 <br>\n",
        "Epoch 1000 Rewards=-28 Steps=31 <br>\n",
        "Epoch 2000 Rewards=-7 Steps=19 <br>\n",
        "Epoch 3000 Rewards=6 Steps=15 <br>\n",
        "Epoch 4000 Rewards=-5 Steps=17 <br>\n",
        "Epoch 5000 Rewards=6 Steps=15 <br>"
      ],
      "metadata": {
        "id": "iHclfvLD62uR"
      },
      "id": "iHclfvLD62uR"
    },
    {
      "cell_type": "code",
      "source": [
        "range(epochs + 1)\n",
        "exploration"
      ],
      "metadata": {
        "colab": {
          "base_uri": "https://localhost:8080/"
        },
        "id": "WOR5yB48ZW5K",
        "outputId": "61ff2404-6293-47fa-ff22-24435bd2661e"
      },
      "id": "WOR5yB48ZW5K",
      "execution_count": null,
      "outputs": [
        {
          "output_type": "execute_result",
          "data": {
            "text/plain": [
              "0.1"
            ]
          },
          "metadata": {},
          "execution_count": 69
        }
      ]
    },
    {
      "cell_type": "code",
      "execution_count": null,
      "id": "b997b67a",
      "metadata": {
        "colab": {
          "base_uri": "https://localhost:8080/"
        },
        "id": "b997b67a",
        "outputId": "b445e1eb-2f4e-4ef1-a755-cfbe2bc676b5"
      },
      "outputs": [
        {
          "output_type": "stream",
          "name": "stdout",
          "text": [
            "Trip number 10 Step 29\n",
            "+---------+\n",
            "|R: | : :\u001b[35mG\u001b[0m|\n",
            "| : |\u001b[43m \u001b[0m: : |\n",
            "| : : : : |\n",
            "| | : | : |\n",
            "|Y| : |\u001b[34;1mB\u001b[0m: |\n",
            "+---------+\n",
            "  (West)\n",
            "\n",
            "Avg rewards is -11.1 and Avg steps 21.6\n"
          ]
        }
      ],
      "source": [
        "from IPython.display import clear_output\n",
        "from time import sleep\n",
        "\n",
        "lengths = []\n",
        "rewards = []\n",
        "number_of_games = 10\n",
        "   \n",
        "for tripnum in range(1, number_of_games + 1):\n",
        "    state = streets.reset()\n",
        "    done = False\n",
        "    trip_length = 0\n",
        "    game_rewards = 0\n",
        "\n",
        "    while not done and trip_length < 30:\n",
        "        action = np.argmax(q_table[state])\n",
        "        next_state, reward, done, info = streets.step(action)\n",
        "        game_rewards += reward\n",
        "        clear_output(wait=True)\n",
        "        print(\"Trip number \" + str(tripnum) + \" Step \" + str(trip_length))\n",
        "        print(streets.render(mode='ansi'))\n",
        "        sleep(.2)\n",
        "        state = next_state\n",
        "        trip_length += 1\n",
        "\n",
        "    lengths.append(trip_length)\n",
        "    rewards.append(game_rewards)\n",
        "    \n",
        "    sleep(.2)\n",
        "\n",
        "avg_steps = sum(lengths) / number_of_games\n",
        "avg_rewards = sum(rewards) / number_of_games\n",
        "print(f'Avg rewards is {avg_rewards} and Avg steps {avg_steps}')"
      ]
    },
    {
      "cell_type": "code",
      "execution_count": null,
      "id": "64ef9e37",
      "metadata": {
        "id": "64ef9e37",
        "colab": {
          "base_uri": "https://localhost:8080/"
        },
        "outputId": "dee5a257-27e8-4fee-e03a-86878f5b860d"
      },
      "outputs": [
        {
          "output_type": "stream",
          "name": "stdout",
          "text": [
            "+---------+\n",
            "|R: | : :G|\n",
            "| : | : : |\n",
            "| : : : : |\n",
            "| | : | : |\n",
            "|\u001b[35m\u001b[34;1m\u001b[43mY\u001b[0m\u001b[0m\u001b[0m| : |B: |\n",
            "+---------+\n",
            "  (Dropoff)\n",
            "\n"
          ]
        }
      ],
      "source": [
        "\n"
      ]
    },
    {
      "cell_type": "code",
      "source": [],
      "metadata": {
        "id": "6ApsKvB12ULK"
      },
      "id": "6ApsKvB12ULK",
      "execution_count": null,
      "outputs": []
    }
  ],
  "metadata": {
    "kernelspec": {
      "display_name": "Python 3",
      "name": "python3"
    },
    "language_info": {
      "codemirror_mode": {
        "name": "ipython",
        "version": 3
      },
      "file_extension": ".py",
      "mimetype": "text/x-python",
      "name": "python",
      "nbconvert_exporter": "python",
      "pygments_lexer": "ipython3",
      "version": "3.9.7"
    },
    "colab": {
      "provenance": [],
      "gpuType": "T4"
    },
    "accelerator": "GPU"
  },
  "nbformat": 4,
  "nbformat_minor": 5
}
